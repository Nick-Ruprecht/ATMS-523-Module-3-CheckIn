{
  "cells": [
    {
      "cell_type": "markdown",
      "id": "aa24b099",
      "metadata": {},
      "source": [
        "# Merging Climate Datasets Exercise\n",
        "\n",
        "Work through this notebook to practice harmonizing and merging two climate datasets that differ in temporal cadence and spatial resolution.\n",
        "\n",
        "You will: \n",
        "- Load two public NOAA datasets directly from the cloud\n",
        "- Subset to the continental US (use 230°E–300°E in longitude since the data span 0–360°)\n",
        "- Use `xr.resample` to aggregate time and `xr.interp` to match grids\n",
        "- Combine the variables with `xr.merge` for joint analysis\n",
        "\n",
        "Refer back to the answer key after attempting each step.\n"
      ]
    },
    {
      "cell_type": "markdown",
      "id": "d6f677f5",
      "metadata": {},
      "source": [
        "## 1. Setup\n"
      ]
    },
    {
      "cell_type": "code",
      "execution_count": null,
      "id": "0a656265",
      "metadata": {
        "tags": [
          "parameters"
        ]
      },
      "outputs": [],
      "source": [
        "import matplotlib.pyplot as plt\n",
        "import xarray as xr\n",
        "\n",
        "try:\n",
        "    import cartopy.crs as ccrs\n",
        "    import cartopy.feature as cfeature\n",
        "except ImportError:\n",
        "    ccrs = None\n",
        "    cfeature = None\n",
        "\n",
        "TEMP_URL = \"https://psl.noaa.gov/thredds/dodsC/Datasets/ncep.reanalysis/surface/air.sig995.2020.nc\"\n",
        "PRECIP_URL = \"https://psl.noaa.gov/thredds/dodsC/Datasets/cpc_global_precip/precip.2020.nc\"\n",
        "\n",
        "LAT_RANGE = (20, 50)  # degrees North\n",
        "LON_RANGE_360 = (230, 300)  # degrees East (equivalent to -130° to -60°)\n",
        "LON_RANGE_180 = (-130, -60)  # convenience if a dataset uses -180° to 180°\n",
        "\n",
        "TIME_RANGE = slice(\"2020-06-01\", \"2020-06-30\")\n"
      ]
    },
    {
      "cell_type": "markdown",
      "id": "45f8536b",
      "metadata": {},
      "source": [
        "## 2. Load the datasets\n",
        "\n",
        "Open both remote datasets with `xr.open_dataset`, passing a reasonable chunk size for the time dimension. Assign the resulting objects to `air` and `precip`.\n"
      ]
    },
    {
      "cell_type": "code",
      "execution_count": null,
      "id": "3270985f",
      "metadata": {
        "tags": [
          "exercise"
        ]
      },
      "outputs": [],
      "source": [
        "# TODO: load the air temperature and precipitation datasets.\n",
        "# Example: air = xr.open_dataset(..., chunks={\"time\": 8})\n",
        "raise NotImplementedError(\"Assign datasets to `air` and `precip`.\")\n"
      ]
    },
    {
      "cell_type": "markdown",
      "id": "761ec85f",
      "metadata": {},
      "source": [
        "## 3. Subset to the continental United States and June 2020\n",
        "\n",
        "Select the bounding box provided above and limit the time range to June 2020 for both datasets. Store the results in `air_us` and `precip_us`.\n",
        "Remember that longitude runs from 0° to 360°, so select 230°E–300°E. Check whether each coordinate is ascending or descending before building the slice.\n"
      ]
    },
    {
      "cell_type": "code",
      "execution_count": null,
      "id": "264d9641",
      "metadata": {
        "tags": [
          "exercise"
        ]
      },
      "outputs": [],
      "source": [
        "# TODO: subset both datasets using `sel`, handling coordinate ordering as needed.\n",
        "raise NotImplementedError(\"Create `air_us` and `precip_us`.\")\n"
      ]
    },
    {
      "cell_type": "markdown",
      "id": "0fd517a9",
      "metadata": {},
      "source": [
        "## 4. Align temporal cadence\n",
        "\n",
        "Aggregate the six-hourly air temperatures to daily means with `xr.resample`. Name the resulting DataArray `air_daily`.\n"
      ]
    },
    {
      "cell_type": "code",
      "execution_count": null,
      "id": "96529bc0",
      "metadata": {
        "tags": [
          "exercise"
        ]
      },
      "outputs": [],
      "source": [
        "# TODO: use xr.resample to create daily means.\n",
        "raise NotImplementedError(\"Create `air_daily`.\")\n"
      ]
    },
    {
      "cell_type": "markdown",
      "id": "b4bc3f03",
      "metadata": {},
      "source": [
        "## 5. Interpolate to the precipitation grid\n",
        "\n",
        "Use `xr.interp` to interpolate the daily air temperatures onto the precipitation grid (`precip_us.lat` and `precip_us.lon`). Store the interpolated result in `air_interp`.\n"
      ]
    },
    {
      "cell_type": "code",
      "execution_count": null,
      "id": "52eb7321",
      "metadata": {
        "tags": [
          "exercise"
        ]
      },
      "outputs": [],
      "source": [
        "# TODO: interpolate the resampled temperature field onto the precipitation grid.\n",
        "raise NotImplementedError(\"Create `air_interp`.\")\n"
      ]
    },
    {
      "cell_type": "markdown",
      "id": "7e1bcf4b",
      "metadata": {},
      "source": [
        "## 6. Merge the datasets\n",
        "\n",
        "Convert the aligned arrays into datasets with clear variable names and merge them with `xr.merge`. Save the output as `merged`.\n"
      ]
    },
    {
      "cell_type": "code",
      "execution_count": null,
      "id": "b766aff5",
      "metadata": {
        "tags": [
          "exercise"
        ]
      },
      "outputs": [],
      "source": [
        "# TODO: build datasets and merge them into one object named `merged`.\n",
        "raise NotImplementedError(\"Create `merged`.\")\n"
      ]
    },
    {
      "cell_type": "markdown",
      "id": "fa374697",
      "metadata": {},
      "source": [
        "## 7. Inspect your result\n",
        "\n",
        "Once your pipeline runs without `NotImplementedError`, evaluate the following cell to sanity-check the merged dataset.\n"
      ]
    },
    {
      "cell_type": "code",
      "execution_count": null,
      "id": "70410d84",
      "metadata": {
        "tags": [
          "validation"
        ]
      },
      "outputs": [],
      "source": [
        "# The assertions below should pass once you have completed the exercise.\n",
        "assert set(merged.data_vars) == {\"air_temperature\", \"daily_precip\"}\n",
        "assert merged.air_temperature.dims == merged.daily_precip.dims\n",
        "print(merged)\n"
      ]
    },
    {
      "cell_type": "markdown",
      "id": "9b789f53",
      "metadata": {},
      "source": [
        "## 8. Check In\n",
        "\n",
        "- Render both variables at the first timestep on a `cartopy` map to verify alignment visually (PlateCarree works well).\n",
        "- Build a scatter plot comparing colocated temperature and precipitation values across the merged domain.\n",
        "- Save the merged output with `to_netcdf` for future analysis.\n"
      ]
    },
    {
      "cell_type": "markdown",
      "id": "d1c320a1",
      "metadata": {},
      "source": []
    }
  ],
  "metadata": {
    "kernelspec": {
      "display_name": "xarray-climate",
      "language": "python",
      "name": "python3"
    },
    "language_info": {
      "codemirror_mode": {
        "name": "ipython",
        "version": 3
      },
      "file_extension": ".py",
      "mimetype": "text/x-python",
      "name": "python",
      "nbconvert_exporter": "python",
      "pygments_lexer": "ipython3",
      "version": "3.13.7"
    }
  },
  "nbformat": 4,
  "nbformat_minor": 5
}
